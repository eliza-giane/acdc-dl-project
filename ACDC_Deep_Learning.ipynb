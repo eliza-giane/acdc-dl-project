{
  "nbformat": 4,
  "nbformat_minor": 0,
  "metadata": {
    "colab": {
      "provenance": [],
      "gpuType": "T4",
      "include_colab_link": true
    },
    "kernelspec": {
      "name": "python3",
      "display_name": "Python 3"
    },
    "language_info": {
      "name": "python"
    },
    "accelerator": "GPU"
  },
  "cells": [
    {
      "cell_type": "markdown",
      "metadata": {
        "id": "view-in-github",
        "colab_type": "text"
      },
      "source": [
        "<a href=\"https://colab.research.google.com/github/eliza-giane/acdc-dl-project/blob/main/ACDC_Deep_Learning.ipynb\" target=\"_parent\"><img src=\"https://colab.research.google.com/assets/colab-badge.svg\" alt=\"Open In Colab\"/></a>"
      ]
    },
    {
      "cell_type": "markdown",
      "source": [
        "# **Introduction**"
      ],
      "metadata": {
        "id": "jDqN0s9cydLL"
      }
    },
    {
      "cell_type": "markdown",
      "source": [
        "**This is the Automated Cardiac Disease Challenge (ACDC) Project for Deep Learning at AIT by Eliza Giane, Shirui Li, and Lydia Yang.**\n",
        "\n",
        "\n",
        "This project was prompted by the challenge (found [here](https://www.creatis.insa-lyon.fr/Challenge/acdc/index.html)). The data consists of real anonymized and regulated clinical exams from the University Hospital of Dijon, and is described as follows on the challenge's website:\n",
        "\n",
        "---\n",
        "\"Our dataset covers several well-defined pathologies with enough cases to (1) properly train machine learning methods and (2) clearly assess the variations of the main physiological parameters obtained from cine-MRI (in particular diastolic volume and ejection fraction).\"\n",
        "\n",
        "\"The dataset is composed of 150 exams (all from different patients) divided into 5 evenly distributed subgroups (4 pathological plus 1 healthy subject groups)...Furthermore, each patient comes with the following additional information : weight, height, as well as the diastolic and systolic phase instants.\"\n",
        "\n",
        "---\n",
        " The dataset to be downloaded is found [here](https://humanheart-project.creatis.insa-lyon.fr/database/#collection/637218c173e9f0047faa00fb/folder/637218e573e9f0047faa00fc).\n",
        "\n",
        "  <!-- and the provided code for handling .nii files is found [here](https://www.creatis.insa-lyon.fr/Challenge/acdc/code/metrics_acdc.py). -->\n",
        "\n",
        "\\\\\n",
        "**Any use of the ACDC database requires the following citation:**\n",
        "\n",
        "O. Bernard, A. Lalande, C. Zotti, F. Cervenansky, et al.\n",
        "\"Deep Learning Techniques for Automatic MRI Cardiac Multi-structures Segmentation and Diagnosis: Is the Problem Solved ?\" in IEEE Transactions on Medical Imaging, vol. 37, no. 11, pp. 2514-2525, Nov. 2018, doi: 10.1109/TMI.2018.2837502"
      ],
      "metadata": {
        "id": "ujxY7RfndU-K"
      }
    },
    {
      "cell_type": "markdown",
      "source": [
        "Running the code:\n",
        "\n",
        "Please download and move the dataset to your Google Drive under MyDrive and rename the folder \"ACDC-Challenge\" to run the code as is. Otherwise, change the variable dataDir in the below code cell to your local folder."
      ],
      "metadata": {
        "id": "HwADqy_yBATq"
      }
    },
    {
      "cell_type": "code",
      "execution_count": 1,
      "metadata": {
        "id": "y-_wKpK8O1pw",
        "colab": {
          "base_uri": "https://localhost:8080/"
        },
        "outputId": "0a3ee706-a8c6-41c3-9054-62996a930daa"
      },
      "outputs": [
        {
          "output_type": "stream",
          "name": "stdout",
          "text": [
            "Mounted at /content/drive\n"
          ]
        }
      ],
      "source": [
        "import nibabel as nib\n",
        "import numpy as np\n",
        "import tensorflow as tf\n",
        "import os\n",
        "import pandas as pd\n",
        "import seaborn as sns\n",
        "import matplotlib.pyplot as plt\n",
        "import configparser\n",
        "import cv2\n",
        "from configparser import ConfigParser\n",
        "from skimage import io\n",
        "from pathlib import Path\n",
        "from PIL import Image\n",
        "\n",
        "from sklearn.model_selection import train_test_split\n",
        "from tensorflow.keras.datasets import cifar10\n",
        "from tensorflow.keras.utils import to_categorical\n",
        "from tensorflow.keras.models import Sequential\n",
        "from tensorflow.keras.layers import Dense, Conv2D, MaxPool2D, Flatten, Dropout, BatchNormalization, Activation, Conv1D, MaxPooling1D\n",
        "from tensorflow.keras.initializers import HeNormal\n",
        "from tensorflow.keras.callbacks import EarlyStopping\n",
        "from tensorflow.keras.optimizers import SGD\n",
        "from sklearn.metrics import confusion_matrix, classification_report, balanced_accuracy_score\n",
        "\n",
        "from google.colab import drive\n",
        "drive.mount('/content/drive')\n",
        "dataDir = '/content/drive/MyDrive/ACDC-Challenge/database/'"
      ]
    },
    {
      "cell_type": "code",
      "source": [
        "def patientNames(trainingOrTesting):\n",
        "  '''\n",
        "  Returns a list of patient file names\n",
        "  trainingOrTesting = \"training\" or \"testing\"\n",
        "  '''\n",
        "  if trainingOrTesting == 'training':\n",
        "    L = []\n",
        "    for i in range(1, 101):\n",
        "        if i < 10:\n",
        "            patient = \"patient\" + \"00\" + str(i)\n",
        "        elif 10 <= i <= 99:\n",
        "            patient = \"patient\" + \"0\" + str(i)\n",
        "        else:\n",
        "            patient = \"patient\" + str(i)\n",
        "        L.append(patient)\n",
        "    return L\n",
        "  elif trainingOrTesting == 'testing':\n",
        "     return [(\"patient\" + str(i)) for i in range(101, 151)]"
      ],
      "metadata": {
        "id": "HBgzHsVX0Ncf"
      },
      "execution_count": 2,
      "outputs": []
    },
    {
      "cell_type": "markdown",
      "source": [
        "NOTE: If you are working with the a freshly downloaded dataset, please uncomment and run the following cell. It only needs to be run once to add the converted jpeg files into the dataset."
      ],
      "metadata": {
        "id": "8ngpr36Ozlqn"
      }
    },
    {
      "cell_type": "code",
      "source": [
        "# # Source: https://stackoverflow.com/questions/68691070/how-to-handle-image-with-extension-nii-gz-is-it-possible-to-convert-them-in-gr\n",
        "# def to_uint8(data):\n",
        "#     data -= data.min()\n",
        "#     data /= data.max()\n",
        "#     data *= 255\n",
        "#     return data.astype(np.uint8)\n",
        "\n",
        "# def nii_to_jpgs(input_path, output_dir, rgb=False):\n",
        "#     output_dir = Path(output_dir)\n",
        "#     data = nib.load(input_path).get_fdata()\n",
        "#     *_, num_slices, num_channels = data.shape\n",
        "#     for channel in range(num_channels):\n",
        "#         volume = data[..., channel]\n",
        "#         volume = to_uint8(volume)\n",
        "#         channel_dir = output_dir / f'channel_{channel}'\n",
        "#         channel_dir.mkdir(exist_ok=True, parents=True)\n",
        "#         for slice in range(num_slices):\n",
        "#             slice_data = volume[..., slice]\n",
        "#             if rgb:\n",
        "#                 slice_data = np.stack(3 * [slice_data], axis=2)\n",
        "#             output_path = channel_dir / f'channel_{channel}_slice_{slice}.jpg'\n",
        "#             io.imsave(output_path, slice_data)\n",
        "\n",
        "# # This is written to convert all images to jpegs in the directory\n",
        "# def convertToJPGs():\n",
        "#   for typ in [\"training\", \"testing\"]:\n",
        "#     for patient in patientNames(typ):\n",
        "#         input_path = dataDir + d_type + \"/\" + patient + \"/\" + patient + \"_4d.nii.gz\"\n",
        "#         output_dir = dataDir + d_type + \"/\" + patient\n",
        "#         nii_to_jpgs(input_path, output_dir, rgb=False) #converts nii to jpgs\n",
        "\n",
        "# convertToJPGs()"
      ],
      "metadata": {
        "id": "kTAYHjEm1Wj2"
      },
      "execution_count": 3,
      "outputs": []
    },
    {
      "cell_type": "markdown",
      "source": [
        "# **Acquiring Data**\n",
        "\n",
        "The data is stored in Google Drive for access. We organize data into useful forms for pre-processing."
      ],
      "metadata": {
        "id": "KPGPqHP6UJOn"
      }
    },
    {
      "cell_type": "code",
      "source": [
        "label_nums = {'NOR': 0, 'DCM': 1, 'HCM': 2, 'MINF': 3, 'RV': 4}\n",
        "\n",
        "def labelAll(d_type, start, end):\n",
        "    '''\n",
        "    Creates dictionary of labels for patient groups\n",
        "    d_type = \"training\" or \"testing\"\n",
        "    amt = number of patients to be added to the list (if -1, add all)\n",
        "    '''\n",
        "    # Get the list of patient names\n",
        "    patientName = patientNames(d_type)\n",
        "    patientList = []  # List to store labels for patient groups\n",
        "\n",
        "    # Iterate through each patient's data\n",
        "    for patient in range(start,end):\n",
        "    # for patient in patientName:\n",
        "        # Construct the path to the Info.cfg file\n",
        "        infopath = dataDir + d_type + \"/\" + patientName[patient] + \"/Info.cfg\"\n",
        "\n",
        "        # Read the Info.cfg file using ConfigParser\n",
        "        parser = configparser.ConfigParser()\n",
        "        with open(infopath) as stream:\n",
        "            parser.read_string(\"[top]\\n\" + stream.read())\n",
        "\n",
        "        # Extract group information from the Info.cfg file\n",
        "        details_dict = dict(parser.items(\"top\"))\n",
        "\n",
        "        # Append the label for the patient's group to the patientList\n",
        "        patientList.append(label_nums[details_dict['group']])\n",
        "\n",
        "    # Converts patientList to array\n",
        "    patientList = np.array(patientList)\n",
        "\n",
        "    # Return the list of patient group labels\n",
        "    return patientList\n",
        "\n",
        "def labelSpecific(d_type, patientNames):\n",
        "    '''\n",
        "    Labels one patient\n",
        "    d_type = \"training\" or \"testing\"\n",
        "    amt = number of patients to be added to the list (if -1, add all)\n",
        "    '''\n",
        "    patientList = []  # List to store labels for patient groups\n",
        "\n",
        "    for patient in patientNames: # for patient in patientName:\n",
        "        # Construct the path to the Info.cfg file\n",
        "        infopath = dataDir + d_type + \"/\" + patient + \"/Info.cfg\"\n",
        "\n",
        "        # Read the Info.cfg file using ConfigParser\n",
        "        parser = configparser.ConfigParser()\n",
        "        with open(infopath) as stream:\n",
        "            parser.read_string(\"[top]\\n\" + stream.read())\n",
        "\n",
        "        # Extract group information from the Info.cfg file\n",
        "        details_dict = dict(parser.items(\"top\"))\n",
        "\n",
        "        # Append the label for the patient's group to the patientList\n",
        "        patientList.append(label_nums[details_dict['group']])\n",
        "\n",
        "    # Converts patientList to array\n",
        "    patientList = np.array(patientList)\n",
        "\n",
        "    # Return the list of patient group labels\n",
        "    return patientList\n",
        "\n",
        "def getImages(dtype, patient, n, all):\n",
        "  '''\n",
        "  Retrieves a list of image paths for a given list of patient.\n",
        "\n",
        "  Args:\n",
        "  dtype (str): The type of data (\"training\" or \"testing\").\n",
        "  patient (str): The patient's folder name.\n",
        "  n (int): The number of slices to extract from each channel.\n",
        "  all (bool): Whether to retrieve all slices (True) or a subset (False).\n",
        "\n",
        "  Returns:\n",
        "  list: A list of image paths if 'all' is True.\n",
        "  tuple: A tuple containing a list of selected image paths and their count if 'all' is False.\n",
        "  '''\n",
        "\n",
        "  def unique(list1):\n",
        "    '''\n",
        "    Helper function to return a list of unique elements.\n",
        "    '''\n",
        "    list_set = set(list1)  # Convert the list to a set to remove duplicates.\n",
        "    unique_list = list(list_set)  # Convert the set back to a list.\n",
        "    return unique_list\n",
        "\n",
        "  # Construct the path to the patient's data directory.\n",
        "  output = dataDir + dtype + \"/\" + patient\n",
        "\n",
        "  # List all directories in the output path that contain 'channel' in their name.\n",
        "  channelNames = [x for x in os.listdir(output) if 'channel' in x]\n",
        "\n",
        "  # Initialize lists to store image paths.\n",
        "  imageList = []  # List to store the selected image paths.\n",
        "  allList = []  # List to store all image paths if 'all' is True.\n",
        "\n",
        "  # Iterate over each channel directory.\n",
        "  for name in channelNames:\n",
        "    # Get unique image names from the channel directory, excluding files with '(' in their name.\n",
        "    imageNames = unique([x for x in os.listdir(output + \"/\" + name) if '(' not in x])\n",
        "\n",
        "    # Create an ordered list of image paths.\n",
        "    orderedList = [output + '/' + name + '/' + name + '_slice_' + str(x) + '.jpg' for x in range(len(imageNames))]\n",
        "\n",
        "    # If 'all' is True, add all image paths to allList and continue to the next channel.\n",
        "    if all:\n",
        "      allList += orderedList\n",
        "      continue\n",
        "\n",
        "    # Calculate the midpoint of the image list.\n",
        "    halfL = len(imageNames) // 2\n",
        "\n",
        "    # Calculate half of the desired number of slices.\n",
        "    halfN = n // 2\n",
        "\n",
        "    # If there are fewer images than the desired number, add all images.\n",
        "    if halfL < n:\n",
        "      imageList += orderedList\n",
        "    else:\n",
        "      # Otherwise, add the central n images.\n",
        "      imageList += orderedList[(halfL - halfN):(halfL + halfN + (n % 2))]\n",
        "\n",
        "  # If 'all' is True, return all image paths.\n",
        "  if all:\n",
        "    return allList\n",
        "\n",
        "  # Print the patient name and the number of images selected.\n",
        "  print(patient, len(imageList))\n",
        "\n",
        "  # Return the list of selected image paths and their count.\n",
        "  return imageList, len(imageList)\n",
        "\n",
        "\n",
        "def getData(d_type, patientList, n):\n",
        "  '''\n",
        "  Gets numpy array of 10 slices jpgs for each patient in the set\n",
        "  '''\n",
        "  shapesList = []  # List to store shapes of slice arrays\n",
        "  dataList = []  # List to store slice arrays\n",
        "\n",
        "  labeledSet = labelSpecific(d_type, patientList)\n",
        "  newLabeledSet = []\n",
        "  # Iterate through patients in the specified range\n",
        "  for patient in range(len(patientList)):\n",
        "      # Construct the path to the first slice jpg for the current patient\n",
        "\n",
        "      slices, numberOfSlices = getImages(d_type, patientList[patient], n, False)\n",
        "      newLabeledSet += [labeledSet[patient]]*numberOfSlices\n",
        "      print(patient, patientList[patient])\n",
        "      print(numberOfSlices, len(newLabeledSet))\n",
        "\n",
        "      for s in slices:\n",
        "        # Open the image using PIL\n",
        "        with Image.open(s) as img:\n",
        "            img.load()\n",
        "            # Convert the image to a numpy array and append it to dataList\n",
        "            image = np.array([img])\n",
        "            dataList.append(image)\n",
        "            # Append the shape of the image array to shapesList\n",
        "            shapesList.append(image.shape)\n",
        "\n",
        "  # Return the list of slice arrays and shapes\n",
        "  return dataList, shapesList, newLabeledSet"
      ],
      "metadata": {
        "id": "mfxjX77WPz_J"
      },
      "execution_count": 4,
      "outputs": []
    },
    {
      "cell_type": "markdown",
      "source": [
        "# **Pre-Processing Data**"
      ],
      "metadata": {
        "id": "LpunfWceqFiZ"
      }
    },
    {
      "cell_type": "code",
      "source": [
        "# Divide the patient names in original training set into a training set and a valid set\n",
        "x_train, x_valid = train_test_split(patientNames(\"training\"), test_size=0.2, random_state=42, shuffle=True)"
      ],
      "metadata": {
        "id": "iqFLYw5lgocJ"
      },
      "execution_count": 22,
      "outputs": []
    },
    {
      "cell_type": "code",
      "source": [
        "import random\n",
        "def shuffleTwo(list1, list2):\n",
        "  zipped = list(zip(list1, list2))\n",
        "  random.shuffle(zipped)\n",
        "  return zip(*zipped)"
      ],
      "metadata": {
        "id": "S56zXS9nyRkC"
      },
      "execution_count": 23,
      "outputs": []
    },
    {
      "cell_type": "code",
      "source": [
        "# Get the image data of each set\n",
        "x_train, train_shapes, y_train = getData('training', x_train, 1)\n",
        "# Randomize the data within each set using test_train_split\n",
        "x_train, y_train = shuffleTwo(x_train, y_train)\n",
        "\n",
        "x_valid, valid_shapes, y_valid = getData('training', x_valid, 1)\n",
        "x_valid, y_valid = shuffleTwo(x_valid, y_valid)\n",
        "\n",
        "x_test, test_shapes, y_test = getData('testing', patientNames(\"testing\"), 1)\n",
        "x_test, y_test = shuffleTwo(x_test, y_test)"
      ],
      "metadata": {
        "id": "0SVdwNoRqDd1"
      },
      "execution_count": null,
      "outputs": []
    },
    {
      "cell_type": "code",
      "source": [
        "from collections import Counter\n",
        "Counter(y_train)"
      ],
      "metadata": {
        "colab": {
          "base_uri": "https://localhost:8080/"
        },
        "id": "JEemylA5Ga2i",
        "outputId": "304fe0aa-325c-4b9c-ae82-9d3282287982"
      },
      "execution_count": 25,
      "outputs": [
        {
          "output_type": "execute_result",
          "data": {
            "text/plain": [
              "Counter({4: 387, 2: 437, 0: 466, 3: 460, 1: 386})"
            ]
          },
          "metadata": {},
          "execution_count": 25
        }
      ]
    },
    {
      "cell_type": "code",
      "source": [
        "Counter(y_test)"
      ],
      "metadata": {
        "id": "Ewii90_zeVq5",
        "colab": {
          "base_uri": "https://localhost:8080/"
        },
        "outputId": "e0058f1e-caf6-4751-dcb6-84550e665275"
      },
      "execution_count": 26,
      "outputs": [
        {
          "output_type": "execute_result",
          "data": {
            "text/plain": [
              "Counter({2: 290, 3: 285, 0: 265, 4: 197, 1: 237})"
            ]
          },
          "metadata": {},
          "execution_count": 26
        }
      ]
    },
    {
      "cell_type": "code",
      "source": [
        "# Resizing images to standard dimensions\n",
        "def resize(L, x, y):\n",
        "  output = []\n",
        "  for i in range(len(L)):\n",
        "    resized = cv2.resize(L[i][0], (x, y))\n",
        "    output.append(resized)\n",
        "  return np.array(output)\n",
        "\n",
        "x_train = resize(x_train, 154, 154)\n",
        "x_valid = resize(x_valid, 154, 154)\n",
        "x_test = resize(x_test, 154, 154)"
      ],
      "metadata": {
        "id": "OUCXzODwZq14"
      },
      "execution_count": 27,
      "outputs": []
    },
    {
      "cell_type": "code",
      "source": [
        "x_train.shape"
      ],
      "metadata": {
        "colab": {
          "base_uri": "https://localhost:8080/"
        },
        "id": "7XmuJRv_CVwJ",
        "outputId": "626e554c-612d-49fe-945c-9e7d827a9cb1"
      },
      "execution_count": 28,
      "outputs": [
        {
          "output_type": "execute_result",
          "data": {
            "text/plain": [
              "(2136, 154, 154)"
            ]
          },
          "metadata": {},
          "execution_count": 28
        }
      ]
    },
    {
      "cell_type": "code",
      "source": [
        "x_valid.shape"
      ],
      "metadata": {
        "id": "DJysserKnOKa",
        "colab": {
          "base_uri": "https://localhost:8080/"
        },
        "outputId": "114b4eb4-f544-4472-91b8-0592cc4630c2"
      },
      "execution_count": 29,
      "outputs": [
        {
          "output_type": "execute_result",
          "data": {
            "text/plain": [
              "(562, 154, 154)"
            ]
          },
          "metadata": {},
          "execution_count": 29
        }
      ]
    },
    {
      "cell_type": "code",
      "source": [
        "x_test.shape"
      ],
      "metadata": {
        "colab": {
          "base_uri": "https://localhost:8080/"
        },
        "id": "iD7muWobCYXT",
        "outputId": "09042414-817c-4b85-a503-ec0de1b6d2b9"
      },
      "execution_count": 30,
      "outputs": [
        {
          "output_type": "execute_result",
          "data": {
            "text/plain": [
              "(1274, 154, 154)"
            ]
          },
          "metadata": {},
          "execution_count": 30
        }
      ]
    },
    {
      "cell_type": "code",
      "source": [
        "mean = x_train.mean(axis=0)\n",
        "std  = x_train.std(axis=0)\n",
        "x_train = (x_train-mean)/std\n",
        "x_valid = (x_valid-mean)/std\n",
        "x_test  = (x_test-mean)/std"
      ],
      "metadata": {
        "id": "5mFrWGcnM9CM"
      },
      "execution_count": 31,
      "outputs": []
    },
    {
      "cell_type": "code",
      "source": [
        "nb_classes = len(np.unique(y_train))\n",
        "y_train = to_categorical(y_train, nb_classes)\n",
        "y_valid = to_categorical(y_valid, nb_classes)\n",
        "y_test  = to_categorical(y_test, nb_classes)"
      ],
      "metadata": {
        "id": "2CPwNPfRU_h6"
      },
      "execution_count": 32,
      "outputs": []
    },
    {
      "cell_type": "markdown",
      "source": [
        "# **Training the Model**"
      ],
      "metadata": {
        "id": "HvfncVvHYvc7"
      }
    },
    {
      "cell_type": "code",
      "source": [
        "x_train.shape"
      ],
      "metadata": {
        "id": "YtbMHM7-cnHV",
        "colab": {
          "base_uri": "https://localhost:8080/"
        },
        "outputId": "29e1af14-7138-43d9-cfb4-af6ec107cf56"
      },
      "execution_count": 33,
      "outputs": [
        {
          "output_type": "execute_result",
          "data": {
            "text/plain": [
              "(2136, 154, 154)"
            ]
          },
          "metadata": {},
          "execution_count": 33
        }
      ]
    },
    {
      "cell_type": "code",
      "source": [
        "y_train.shape"
      ],
      "metadata": {
        "id": "B95WCPR3vhCy",
        "colab": {
          "base_uri": "https://localhost:8080/"
        },
        "outputId": "68946b3f-1d83-40d7-8ef3-20ae323e7864"
      },
      "execution_count": 34,
      "outputs": [
        {
          "output_type": "execute_result",
          "data": {
            "text/plain": [
              "(2136, 5)"
            ]
          },
          "metadata": {},
          "execution_count": 34
        }
      ]
    },
    {
      "cell_type": "code",
      "source": [
        "# Early Stopping Method\n",
        "es = EarlyStopping(patience = 5, monitor = 'val_accuracy', restore_best_weights=True)\n",
        "rate = 0.2"
      ],
      "metadata": {
        "id": "SM5Da2kYTcjq"
      },
      "execution_count": 37,
      "outputs": []
    },
    {
      "cell_type": "code",
      "source": [
        "nb_filter       = 3   # number of filter/kernels in the convolutional layers\n",
        "filter_length   = 48  # length of the filter/kernel in the convolutional layers\n",
        "window_size     = x_train.shape[1] # the window size defined by the dataset\n",
        "nb_features     = x_train.shape[1] # the number of features of the input data (number of dimensions)\n",
        "nb_outputs      = y_train.shape[1] # the number of outputs (defined by the target data)"
      ],
      "metadata": {
        "id": "yktgmxjVdIuz"
      },
      "execution_count": 38,
      "outputs": []
    },
    {
      "cell_type": "code",
      "source": [
        "# Model Definition\n",
        "model = Sequential()\n",
        "model.add(Conv1D(filters=nb_filter*3, kernel_size=filter_length, activation='relu', kernel_initializer='he_normal', input_shape=(window_size, nb_features)))\n",
        "model.add(MaxPooling1D(pool_size=2, strides=1, padding=\"valid\"))\n",
        "model.add(Dropout(rate))\n",
        "model.add(Conv1D(filters=nb_filter*3, kernel_size=filter_length, activation='relu', kernel_initializer='he_normal'))\n",
        "model.add(MaxPooling1D())\n",
        "model.add(Dropout(rate))\n",
        "model.add(Flatten())\n",
        "model.add(Dense(128, activation='relu'))\n",
        "model.add(Dropout(rate))\n",
        "model.add(Dense(nb_outputs, activation='softmax'))"
      ],
      "metadata": {
        "collapsed": true,
        "id": "eHjzjhHQou6G"
      },
      "execution_count": 43,
      "outputs": []
    },
    {
      "cell_type": "code",
      "source": [
        "model.compile(loss='categorical_crossentropy', optimizer='adam', metrics=['accuracy'])"
      ],
      "metadata": {
        "id": "dc0bB7DZjkFK"
      },
      "execution_count": 44,
      "outputs": []
    },
    {
      "cell_type": "code",
      "source": [
        "network_history = model.fit(x_train, y_train,\n",
        "                            validation_data=(x_valid,y_valid),\n",
        "                            batch_size=5,\n",
        "                            epochs=500,\n",
        "                            verbose=1,\n",
        "                            callbacks=[es])"
      ],
      "metadata": {
        "id": "J-0RhL_Fj_Da",
        "colab": {
          "base_uri": "https://localhost:8080/"
        },
        "outputId": "a7c182ff-8eba-4dda-b57e-c3607813c8f4"
      },
      "execution_count": 45,
      "outputs": [
        {
          "output_type": "stream",
          "name": "stdout",
          "text": [
            "Epoch 1/500\n",
            "428/428 [==============================] - 4s 6ms/step - loss: 0.9441 - accuracy: 0.6653 - val_loss: 3.6937 - val_accuracy: 0.1993\n",
            "Epoch 2/500\n",
            "428/428 [==============================] - 2s 5ms/step - loss: 0.3860 - accuracy: 0.8703 - val_loss: 3.6541 - val_accuracy: 0.3238\n",
            "Epoch 3/500\n",
            "428/428 [==============================] - 2s 5ms/step - loss: 0.3679 - accuracy: 0.8923 - val_loss: 3.6623 - val_accuracy: 0.3078\n",
            "Epoch 4/500\n",
            "428/428 [==============================] - 2s 5ms/step - loss: 0.1950 - accuracy: 0.9401 - val_loss: 3.3389 - val_accuracy: 0.2153\n",
            "Epoch 5/500\n",
            "428/428 [==============================] - 3s 7ms/step - loss: 0.4686 - accuracy: 0.8502 - val_loss: 2.7637 - val_accuracy: 0.2206\n",
            "Epoch 6/500\n",
            "428/428 [==============================] - 3s 6ms/step - loss: 0.2365 - accuracy: 0.9316 - val_loss: 12.2107 - val_accuracy: 0.2900\n",
            "Epoch 7/500\n",
            "428/428 [==============================] - 2s 5ms/step - loss: 0.2900 - accuracy: 0.9279 - val_loss: 14.2855 - val_accuracy: 0.2598\n"
          ]
        }
      ]
    },
    {
      "cell_type": "markdown",
      "source": [
        "# **Evaluation of Model**\n",
        "\n"
      ],
      "metadata": {
        "id": "oblvx_SHWTCI"
      }
    },
    {
      "cell_type": "code",
      "source": [
        "eval = model.evaluate(x_test,y_test)\n",
        "print(\"Test loss:\",eval[0])\n",
        "print(\"Test accuracy:\",eval[1])"
      ],
      "metadata": {
        "colab": {
          "base_uri": "https://localhost:8080/"
        },
        "id": "kgarQt9cQsMg",
        "outputId": "637d3812-1f22-401d-9323-0376f5e99126"
      },
      "execution_count": 46,
      "outputs": [
        {
          "output_type": "stream",
          "name": "stdout",
          "text": [
            "40/40 [==============================] - 0s 6ms/step - loss: 3.8031 - accuracy: 0.3257\n",
            "Test loss: 3.80307936668396\n",
            "Test accuracy: 0.32574567198753357\n"
          ]
        }
      ]
    },
    {
      "cell_type": "code",
      "source": [
        "preds = model.predict(x_test)"
      ],
      "metadata": {
        "colab": {
          "base_uri": "https://localhost:8080/"
        },
        "id": "WvpRtTsoU2wC",
        "outputId": "b0bb99fd-0471-411d-b4e5-e8abcaed4199"
      },
      "execution_count": 47,
      "outputs": [
        {
          "output_type": "stream",
          "name": "stdout",
          "text": [
            "40/40 [==============================] - 0s 3ms/step\n"
          ]
        }
      ]
    },
    {
      "cell_type": "code",
      "source": [
        "print(classification_report(np.argmax(y_test,1),np.argmax(preds,1)))"
      ],
      "metadata": {
        "colab": {
          "base_uri": "https://localhost:8080/"
        },
        "id": "JWj99-YOVGhZ",
        "outputId": "da58b265-35d0-4646-9af4-bb9f5c06fe2c"
      },
      "execution_count": 48,
      "outputs": [
        {
          "output_type": "stream",
          "name": "stdout",
          "text": [
            "              precision    recall  f1-score   support\n",
            "\n",
            "           0       0.30      0.41      0.34       265\n",
            "           1       0.15      0.15      0.15       237\n",
            "           2       0.28      0.31      0.29       290\n",
            "           3       0.56      0.34      0.42       285\n",
            "           4       0.49      0.43      0.46       197\n",
            "\n",
            "    accuracy                           0.33      1274\n",
            "   macro avg       0.35      0.33      0.33      1274\n",
            "weighted avg       0.35      0.33      0.33      1274\n",
            "\n"
          ]
        }
      ]
    },
    {
      "cell_type": "code",
      "source": [
        "balanced_accuracy_score(np.argmax(y_test,1),np.argmax(preds,1))"
      ],
      "metadata": {
        "colab": {
          "base_uri": "https://localhost:8080/"
        },
        "id": "ZlDc9sGsV5vg",
        "outputId": "4b89126b-211f-41d4-a2ec-e68ba5dac219"
      },
      "execution_count": 49,
      "outputs": [
        {
          "output_type": "execute_result",
          "data": {
            "text/plain": [
              "0.32737257137952225"
            ]
          },
          "metadata": {},
          "execution_count": 49
        }
      ]
    },
    {
      "cell_type": "code",
      "source": [
        "conf=confusion_matrix(np.argmax(y_test,1),np.argmax(preds,1))\n",
        "sns.heatmap(conf, annot=True, fmt='d', vmax=100)"
      ],
      "metadata": {
        "colab": {
          "base_uri": "https://localhost:8080/",
          "height": 473
        },
        "id": "vdXyhRbEVHCe",
        "outputId": "9c67f480-09fd-4b2e-9790-9ad12d96ac7b"
      },
      "execution_count": 50,
      "outputs": [
        {
          "output_type": "execute_result",
          "data": {
            "text/plain": [
              "<Axes: >"
            ]
          },
          "metadata": {},
          "execution_count": 50
        },
        {
          "output_type": "display_data",
          "data": {
            "text/plain": [
              "<Figure size 640x480 with 2 Axes>"
            ],
            "image/png": "[encoded data removed]"
          },
          "metadata": {}
        }
      ]
    }
  ]
}