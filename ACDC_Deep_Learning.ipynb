{
  "nbformat": 4,
  "nbformat_minor": 0,
  "metadata": {
    "colab": {
      "provenance": [],
      "gpuType": "T4",
      "include_colab_link": true
    },
    "kernelspec": {
      "name": "python3",
      "display_name": "Python 3"
    },
    "language_info": {
      "name": "python"
    },
    "accelerator": "GPU"
  },
  "cells": [
    {
      "cell_type": "markdown",
      "metadata": {
        "id": "view-in-github",
        "colab_type": "text"
      },
      "source": [
        "<a href=\"https://colab.research.google.com/github/eliza-giane/acdc-dl-project/blob/main/ACDC_Deep_Learning.ipynb\" target=\"_parent\"><img src=\"https://colab.research.google.com/assets/colab-badge.svg\" alt=\"Open In Colab\"/></a>"
      ]
    },
    {
      "cell_type": "markdown",
      "source": [
        "# **Introduction**"
      ],
      "metadata": {
        "id": "jDqN0s9cydLL"
      }
    },
    {
      "cell_type": "markdown",
      "source": [
        "**This is the Automated Cardiac Disease Challenge (ACDC) Project for Deep Learning at AIT by Eliza Giane, Shirui Li, and Lydia Yang.**\n",
        "\n",
        "\n",
        "This project was prompted by the challenge (found [here](https://www.creatis.insa-lyon.fr/Challenge/acdc/index.html)). The data consists of real anonymized and regulated clinical exams from the University Hospital of Dijon, and is described as follows on the challenge's website:\n",
        "\n",
        "---\n",
        "\"Our dataset covers several well-defined pathologies with enough cases to (1) properly train machine learning methods and (2) clearly assess the variations of the main physiological parameters obtained from cine-MRI (in particular diastolic volume and ejection fraction).\"\n",
        "\n",
        "\"The dataset is composed of 150 exams (all from different patients) divided into 5 evenly distributed subgroups (4 pathological plus 1 healthy subject groups)...Furthermore, each patient comes with the following additional information : weight, height, as well as the diastolic and systolic phase instants.\"\n",
        "\n",
        "---\n",
        " The dataset to be downloaded is found [here](https://humanheart-project.creatis.insa-lyon.fr/database/#collection/637218c173e9f0047faa00fb/folder/637218e573e9f0047faa00fc).\n",
        "\n",
        "  <!-- and the provided code for handling .nii files is found [here](https://www.creatis.insa-lyon.fr/Challenge/acdc/code/metrics_acdc.py). -->\n",
        "\n",
        "\\\\\n",
        "**Any use of the ACDC database requires the following citation:**\n",
        "\n",
        "O. Bernard, A. Lalande, C. Zotti, F. Cervenansky, et al.\n",
        "\"Deep Learning Techniques for Automatic MRI Cardiac Multi-structures Segmentation and Diagnosis: Is the Problem Solved ?\" in IEEE Transactions on Medical Imaging, vol. 37, no. 11, pp. 2514-2525, Nov. 2018, doi: 10.1109/TMI.2018.2837502"
      ],
      "metadata": {
        "id": "ujxY7RfndU-K"
      }
    },
    {
      "cell_type": "markdown",
      "source": [
        "Running the code:\n",
        "\n",
        "Please download and move the dataset to your Google Drive under MyDrive and rename the folder \"ACDC-Challenge\" to run the code as is. Otherwise, change the variable dataDir in the below code cell to your local folder."
      ],
      "metadata": {
        "id": "HwADqy_yBATq"
      }
    },
    {
      "cell_type": "code",
      "execution_count": null,
      "metadata": {
        "id": "y-_wKpK8O1pw",
        "colab": {
          "base_uri": "https://localhost:8080/"
        },
        "outputId": "32bd27ca-99a0-40e5-fc3e-509292c24f7d"
      },
      "outputs": [
        {
          "output_type": "stream",
          "name": "stdout",
          "text": [
            "Mounted at /content/drive\n"
          ]
        }
      ],
      "source": [
        "import nibabel as nib\n",
        "import numpy as np\n",
        "import tensorflow as tf\n",
        "import os\n",
        "import pandas as pd\n",
        "import seaborn as sns\n",
        "import matplotlib.pyplot as plt\n",
        "import configparser\n",
        "import cv2\n",
        "from configparser import ConfigParser\n",
        "from skimage import io\n",
        "from pathlib import Path\n",
        "from PIL import Image\n",
        "\n",
        "from sklearn.model_selection import train_test_split\n",
        "from tensorflow.keras.datasets import cifar10\n",
        "from tensorflow.keras.utils import to_categorical\n",
        "from tensorflow.keras.models import Sequential\n",
        "from tensorflow.keras.layers import Dense, Conv2D, MaxPool2D, Flatten, Dropout, BatchNormalization, Activation, Conv1D, MaxPooling1D\n",
        "from tensorflow.keras.initializers import HeNormal\n",
        "from tensorflow.keras.callbacks import EarlyStopping\n",
        "from tensorflow.keras.optimizers import SGD\n",
        "from sklearn.metrics import confusion_matrix, classification_report, balanced_accuracy_score\n",
        "\n",
        "from google.colab import drive\n",
        "drive.mount('/content/drive')\n",
        "dataDir = '/content/drive/MyDrive/ACDC-Challenge/database/'"
      ]
    },
    {
      "cell_type": "code",
      "source": [
        "def patientNames(trainingOrTesting):\n",
        "  '''\n",
        "  Returns a list of patient file names\n",
        "  trainingOrTesting = \"training\" or \"testing\"\n",
        "  '''\n",
        "  if trainingOrTesting == 'training':\n",
        "    L = []\n",
        "    for i in range(1, 101):\n",
        "        if i < 10:\n",
        "            patient = \"patient\" + \"00\" + str(i)\n",
        "        elif 10 <= i <= 99:\n",
        "            patient = \"patient\" + \"0\" + str(i)\n",
        "        else:\n",
        "            patient = \"patient\" + str(i)\n",
        "        L.append(patient)\n",
        "    return L\n",
        "  elif trainingOrTesting == 'testing':\n",
        "     return [(\"patient\" + str(i)) for i in range(101, 151)]"
      ],
      "metadata": {
        "id": "HBgzHsVX0Ncf"
      },
      "execution_count": null,
      "outputs": []
    },
    {
      "cell_type": "markdown",
      "source": [
        "NOTE: If you are working with the a freshly downloaded dataset, please uncomment and run the following cell. It only needs to be run once to add the converted jpeg files into the dataset."
      ],
      "metadata": {
        "id": "8ngpr36Ozlqn"
      }
    },
    {
      "cell_type": "code",
      "source": [
        "# # Source: https://stackoverflow.com/questions/68691070/how-to-handle-image-with-extension-nii-gz-is-it-possible-to-convert-them-in-gr\n",
        "# def to_uint8(data):\n",
        "#     data -= data.min()\n",
        "#     data /= data.max()\n",
        "#     data *= 255\n",
        "#     return data.astype(np.uint8)\n",
        "\n",
        "# def nii_to_jpgs(input_path, output_dir, rgb=False):\n",
        "#     output_dir = Path(output_dir)\n",
        "#     data = nib.load(input_path).get_fdata()\n",
        "#     *_, num_slices, num_channels = data.shape\n",
        "#     for channel in range(num_channels):\n",
        "#         volume = data[..., channel]\n",
        "#         volume = to_uint8(volume)\n",
        "#         channel_dir = output_dir / f'channel_{channel}'\n",
        "#         channel_dir.mkdir(exist_ok=True, parents=True)\n",
        "#         for slice in range(num_slices):\n",
        "#             slice_data = volume[..., slice]\n",
        "#             if rgb:\n",
        "#                 slice_data = np.stack(3 * [slice_data], axis=2)\n",
        "#             output_path = channel_dir / f'channel_{channel}_slice_{slice}.jpg'\n",
        "#             io.imsave(output_path, slice_data)\n",
        "\n",
        "# # This is written to convert all images to jpegs in the directory\n",
        "# def convertToJPGs():\n",
        "#   for typ in [\"training\", \"testing\"]:\n",
        "#     for patient in patientNames(typ):\n",
        "#         input_path = dataDir + d_type + \"/\" + patient + \"/\" + patient + \"_4d.nii.gz\"\n",
        "#         output_dir = dataDir + d_type + \"/\" + patient\n",
        "#         nii_to_jpgs(input_path, output_dir, rgb=False) #converts nii to jpgs\n",
        "\n",
        "# convertToJPGs()"
      ],
      "metadata": {
        "id": "kTAYHjEm1Wj2"
      },
      "execution_count": null,
      "outputs": []
    },
    {
      "cell_type": "markdown",
      "source": [
        "# **Acquiring Data**\n",
        "\n",
        "The data is stored in Google Drive for access. We organize data into useful forms for pre-processing."
      ],
      "metadata": {
        "id": "KPGPqHP6UJOn"
      }
    },
    {
      "cell_type": "code",
      "source": [
        "label_nums = {'NOR': 0, 'DCM': 1, 'HCM': 2, 'MINF': 3, 'RV': 4}\n",
        "\n",
        "def labelAll(d_type, start, end):\n",
        "    '''\n",
        "    Creates dictionary of labels for patient groups\n",
        "    d_type = \"training\" or \"testing\"\n",
        "    amt = number of patients to be added to the list (if -1, add all)\n",
        "    '''\n",
        "    # Get the list of patient names\n",
        "    patientName = patientNames(d_type)\n",
        "    patientList = []  # List to store labels for patient groups\n",
        "\n",
        "    # Iterate through each patient's data\n",
        "    for patient in range(start,end):\n",
        "    # for patient in patientName:\n",
        "        # Construct the path to the Info.cfg file\n",
        "        infopath = dataDir + d_type + \"/\" + patientName[patient] + \"/Info.cfg\"\n",
        "\n",
        "        # Read the Info.cfg file using ConfigParser\n",
        "        parser = configparser.ConfigParser()\n",
        "        with open(infopath) as stream:\n",
        "            parser.read_string(\"[top]\\n\" + stream.read())\n",
        "\n",
        "        # Extract group information from the Info.cfg file\n",
        "        details_dict = dict(parser.items(\"top\"))\n",
        "\n",
        "        # Append the label for the patient's group to the patientList\n",
        "        patientList.append(label_nums[details_dict['group']])\n",
        "\n",
        "    # Converts patientList to array\n",
        "    patientList = np.array(patientList)\n",
        "\n",
        "    # Return the list of patient group labels\n",
        "    return patientList\n",
        "\n",
        "def labelSpecific(d_type, patientNames):\n",
        "    '''\n",
        "    Labels one patient\n",
        "    d_type = \"training\" or \"testing\"\n",
        "    amt = number of patients to be added to the list (if -1, add all)\n",
        "    '''\n",
        "    patientList = []  # List to store labels for patient groups\n",
        "\n",
        "    for patient in patientNames: # for patient in patientName:\n",
        "        # Construct the path to the Info.cfg file\n",
        "        infopath = dataDir + d_type + \"/\" + patient + \"/Info.cfg\"\n",
        "\n",
        "        # Read the Info.cfg file using ConfigParser\n",
        "        parser = configparser.ConfigParser()\n",
        "        with open(infopath) as stream:\n",
        "            parser.read_string(\"[top]\\n\" + stream.read())\n",
        "\n",
        "        # Extract group information from the Info.cfg file\n",
        "        details_dict = dict(parser.items(\"top\"))\n",
        "\n",
        "        # Append the label for the patient's group to the patientList\n",
        "        patientList.append(label_nums[details_dict['group']])\n",
        "\n",
        "    # Converts patientList to array\n",
        "    patientList = np.array(patientList)\n",
        "\n",
        "    # Return the list of patient group labels\n",
        "    return patientList\n",
        "\n",
        "def getImages(dtype, patient, n, all):\n",
        "  '''\n",
        "  Retrieves a list of image paths for a given list of patient.\n",
        "\n",
        "  Args:\n",
        "  dtype (str): The type of data (\"training\" or \"testing\").\n",
        "  patient (str): The patient's folder name.\n",
        "  n (int): The number of slices to extract from each channel.\n",
        "  all (bool): Whether to retrieve all slices (True) or a subset (False).\n",
        "\n",
        "  Returns:\n",
        "  list: A list of image paths if 'all' is True.\n",
        "  tuple: A tuple containing a list of selected image paths and their count if 'all' is False.\n",
        "  '''\n",
        "\n",
        "  def unique(list1):\n",
        "    '''\n",
        "    Helper function to return a list of unique elements.\n",
        "    '''\n",
        "    list_set = set(list1)  # Convert the list to a set to remove duplicates.\n",
        "    unique_list = list(list_set)  # Convert the set back to a list.\n",
        "    return unique_list\n",
        "\n",
        "  # Construct the path to the patient's data directory.\n",
        "  output = dataDir + dtype + \"/\" + patient\n",
        "\n",
        "  # List all directories in the output path that contain 'channel' in their name.\n",
        "  channelNames = [x for x in os.listdir(output) if 'channel' in x]\n",
        "\n",
        "  # Initialize lists to store image paths.\n",
        "  imageList = []  # List to store the selected image paths.\n",
        "  allList = []  # List to store all image paths if 'all' is True.\n",
        "\n",
        "  # Iterate over each channel directory.\n",
        "  for name in channelNames:\n",
        "    # Get unique image names from the channel directory, excluding files with '(' in their name.\n",
        "    imageNames = unique([x for x in os.listdir(output + \"/\" + name) if '(' not in x])\n",
        "\n",
        "    # Create an ordered list of image paths.\n",
        "    orderedList = [output + '/' + name + '/' + name + '_slice_' + str(x) + '.jpg' for x in range(len(imageNames))]\n",
        "\n",
        "    # If 'all' is True, add all image paths to allList and continue to the next channel.\n",
        "    if all:\n",
        "      allList += orderedList\n",
        "      continue\n",
        "\n",
        "    # Calculate the midpoint of the image list.\n",
        "    halfL = len(imageNames) // 2\n",
        "\n",
        "    # Calculate half of the desired number of slices.\n",
        "    halfN = n // 2\n",
        "\n",
        "    # If there are fewer images than the desired number, add all images.\n",
        "    if halfL < n:\n",
        "      imageList += orderedList\n",
        "    else:\n",
        "      # Otherwise, add the central n images.\n",
        "      imageList += orderedList[(halfL - halfN):(halfL + halfN + (n % 2))]\n",
        "\n",
        "  # If 'all' is True, return all image paths.\n",
        "  if all:\n",
        "    return allList\n",
        "\n",
        "  # Print the patient name and the number of images selected.\n",
        "  print(patient, len(imageList))\n",
        "\n",
        "  # Return the list of selected image paths and their count.\n",
        "  return imageList, len(imageList)\n",
        "\n",
        "\n",
        "def getData(d_type, patientList, n):\n",
        "  '''\n",
        "  Gets numpy array of 10 slices jpgs for each patient in the set\n",
        "  '''\n",
        "  shapesList = []  # List to store shapes of slice arrays\n",
        "  dataList = []  # List to store slice arrays\n",
        "\n",
        "  labeledSet = labelSpecific(d_type, patientList)\n",
        "  newLabeledSet = []\n",
        "  # Iterate through patients in the specified range\n",
        "  for patient in range(len(patientList)):\n",
        "      # Construct the path to the first slice jpg for the current patient\n",
        "\n",
        "      slices, numberOfSlices = getImages(d_type, patientList[patient], n, False)\n",
        "      newLabeledSet += [labeledSet[patient]]*numberOfSlices\n",
        "      print(patient, patientList[patient])\n",
        "      print(numberOfSlices, len(newLabeledSet))\n",
        "\n",
        "      for s in slices:\n",
        "        # Open the image using PIL\n",
        "        with Image.open(s) as img:\n",
        "            img.load()\n",
        "            # Convert the image to a numpy array and append it to dataList\n",
        "            image = np.array([img])\n",
        "            dataList.append(image)\n",
        "            # Append the shape of the image array to shapesList\n",
        "            shapesList.append(image.shape)\n",
        "\n",
        "  # Return the list of slice arrays and shapes\n",
        "  return dataList, shapesList, newLabeledSet"
      ],
      "metadata": {
        "id": "mfxjX77WPz_J"
      },
      "execution_count": null,
      "outputs": []
    },
    {
      "cell_type": "markdown",
      "source": [
        "# **Pre-Processing Data**"
      ],
      "metadata": {
        "id": "LpunfWceqFiZ"
      }
    },
    {
      "cell_type": "code",
      "source": [
        "# Divide the patient names in original training set into a training set and a valid set\n",
        "x_train, x_valid = train_test_split(patientNames(\"training\"), test_size=0.2, random_state=42, shuffle=True)"
      ],
      "metadata": {
        "id": "iqFLYw5lgocJ"
      },
      "execution_count": null,
      "outputs": []
    },
    {
      "cell_type": "code",
      "source": [
        "# Shuffle two lists together with same indices\n",
        "# Source: https://www.geeksforgeeks.org/python-shuffle-two-lists-with-same-order/\n",
        "import random\n",
        "def shuffleTwo(list1, list2):\n",
        "  zipped = list(zip(list1, list2))\n",
        "  random.shuffle(zipped)\n",
        "  return zip(*zipped)"
      ],
      "metadata": {
        "id": "iBPQJTRC0mNr"
      },
      "execution_count": null,
      "outputs": []
    },
    {
      "cell_type": "code",
      "source": [
        "# Get the image data of each set\n",
        "x_train, train_shapes, y_train = getData('training', x_train, 1)\n",
        "# Randomize the data within each set\n",
        "x_train, y_train = shuffleTwo(x_train, y_train)\n",
        "\n",
        "x_valid, valid_shapes, y_valid = getData('training', x_valid, 1)\n",
        "x_valid, y_valid = shuffleTwo(x_valid, y_valid)\n",
        "\n",
        "x_test, test_shapes, y_test = getData('testing', patientNames('testing'), 1)\n",
        "x_test, y_test = shuffleTwo(x_test, y_test)"
      ],
      "metadata": {
        "id": "0SVdwNoRqDd1",
        "colab": {
          "base_uri": "https://localhost:8080/"
        },
        "outputId": "37e28afd-f6f2-4d8a-8693-e129f8cd9642"
      },
      "execution_count": null,
      "outputs": [
        {
          "output_type": "stream",
          "name": "stdout",
          "text": [
            "patient056 30\n",
            "0 patient056\n",
            "30 30\n",
            "patient089 30\n",
            "1 patient089\n",
            "30 60\n",
            "patient027 30\n",
            "2 patient027\n",
            "30 90\n",
            "patient043 13\n",
            "3 patient043\n",
            "13 103\n",
            "patient070 28\n",
            "4 patient070\n",
            "28 131\n",
            "patient016 30\n",
            "5 patient016\n",
            "30 161\n",
            "patient041 17\n",
            "6 patient041\n",
            "17 178\n",
            "patient097 30\n",
            "7 patient097\n",
            "30 208\n",
            "patient010 28\n",
            "8 patient010\n",
            "28 236\n",
            "patient073 35\n",
            "9 patient073\n",
            "35 271\n",
            "patient012 30\n",
            "10 patient012\n",
            "30 301\n",
            "patient048 28\n",
            "11 patient048\n",
            "28 329\n",
            "patient086 19\n",
            "12 patient086\n",
            "19 348\n",
            "patient029 30\n",
            "13 patient029\n",
            "30 378\n",
            "patient094 14\n",
            "14 patient094\n",
            "14 392\n",
            "patient006 28\n",
            "15 patient006\n",
            "28 420\n",
            "patient067 30\n",
            "16 patient067\n",
            "30 450\n",
            "patient066 30\n",
            "17 patient066\n",
            "30 480\n",
            "patient036 35\n",
            "18 patient036\n",
            "35 515\n",
            "patient017 19\n",
            "19 patient017\n",
            "19 534\n",
            "patient050 30\n",
            "20 patient050\n",
            "30 564\n",
            "patient035 28\n",
            "21 patient035\n",
            "28 592\n",
            "patient008 28\n",
            "22 patient008\n",
            "28 620\n",
            "patient096 15\n",
            "23 patient096\n",
            "15 635\n",
            "patient028 28\n",
            "24 patient028\n",
            "28 663\n",
            "patient020 20\n",
            "25 patient020\n",
            "20 683\n",
            "patient082 17\n",
            "26 patient082\n",
            "17 700\n",
            "patient026 28\n",
            "27 patient026\n",
            "28 728\n",
            "patient063 35\n",
            "28 patient063\n",
            "35 763\n",
            "patient014 30\n",
            "29 patient014\n",
            "30 793\n",
            "patient025 25\n",
            "30 patient025\n",
            "25 818\n",
            "patient004 28\n",
            "31 patient004\n",
            "28 846\n",
            "patient018 13\n",
            "32 patient018\n",
            "13 859\n",
            "patient039 28\n",
            "33 patient039\n",
            "28 887\n",
            "patient009 35\n",
            "34 patient009\n",
            "35 922\n",
            "patient079 30\n",
            "35 patient079\n",
            "30 952\n",
            "patient007 16\n",
            "36 patient007\n",
            "16 968\n",
            "patient065 30\n",
            "37 patient065\n",
            "30 998\n",
            "patient037 30\n",
            "38 patient037\n",
            "30 1028\n",
            "patient090 12\n",
            "39 patient090\n",
            "12 1040\n",
            "patient057 25\n",
            "40 patient057\n",
            "25 1065\n",
            "patient100 34\n",
            "41 patient100\n",
            "34 1099\n",
            "patient055 25\n",
            "42 patient055\n",
            "25 1124\n",
            "patient044 30\n",
            "43 patient044\n",
            "30 1154\n",
            "patient051 30\n",
            "44 patient051\n",
            "30 1184\n",
            "patient068 28\n",
            "45 patient068\n",
            "28 1212\n",
            "patient047 22\n",
            "46 patient047\n",
            "22 1234\n",
            "patient069 30\n",
            "47 patient069\n",
            "30 1264\n",
            "patient062 30\n",
            "48 patient062\n",
            "30 1294\n",
            "patient098 22\n",
            "49 patient098\n",
            "22 1316\n",
            "patient080 21\n",
            "50 patient080\n",
            "21 1337\n",
            "patient042 35\n",
            "51 patient042\n",
            "35 1372\n",
            "patient059 30\n",
            "52 patient059\n",
            "30 1402\n",
            "patient049 35\n",
            "53 patient049\n",
            "35 1437\n",
            "patient099 19\n",
            "54 patient099\n",
            "19 1456\n",
            "patient058 30\n",
            "55 patient058\n",
            "30 1486\n",
            "patient076 30\n",
            "56 patient076\n",
            "30 1516\n",
            "patient033 30\n",
            "57 patient033\n",
            "30 1546\n",
            "patient095 30\n",
            "58 patient095\n",
            "30 1576\n",
            "patient060 30\n",
            "59 patient060\n",
            "30 1606\n",
            "patient064 35\n",
            "60 patient064\n",
            "35 1641\n",
            "patient085 30\n",
            "61 patient085\n",
            "30 1671\n",
            "patient038 24\n",
            "62 patient038\n",
            "24 1695\n",
            "patient030 35\n",
            "63 patient030\n",
            "35 1730\n",
            "patient002 30\n",
            "64 patient002\n",
            "30 1760\n",
            "patient053 30\n",
            "65 patient053\n",
            "30 1790\n",
            "patient022 28\n",
            "66 patient022\n",
            "28 1818\n",
            "patient003 30\n",
            "67 patient003\n",
            "30 1848\n",
            "patient024 28\n",
            "68 patient024\n",
            "28 1876\n",
            "patient088 25\n",
            "69 patient088\n",
            "25 1901\n",
            "patient092 15\n",
            "70 patient092\n",
            "15 1916\n",
            "patient075 14\n",
            "71 patient075\n",
            "14 1930\n",
            "patient087 28\n",
            "72 patient087\n",
            "28 1958\n",
            "patient083 17\n",
            "73 patient083\n",
            "17 1975\n",
            "patient021 30\n",
            "74 patient021\n",
            "30 2005\n",
            "patient061 30\n",
            "75 patient061\n",
            "30 2035\n",
            "patient072 30\n",
            "76 patient072\n",
            "30 2065\n",
            "patient015 21\n",
            "77 patient015\n",
            "21 2086\n",
            "patient093 30\n",
            "78 patient093\n",
            "30 2116\n",
            "patient052 20\n",
            "79 patient052\n",
            "20 2136\n",
            "patient084 35\n",
            "0 patient084\n",
            "35 35\n",
            "patient054 30\n",
            "1 patient054\n",
            "30 65\n",
            "patient071 30\n",
            "2 patient071\n",
            "30 95\n",
            "patient046 30\n",
            "3 patient046\n",
            "30 125\n",
            "patient045 35\n",
            "4 patient045\n",
            "35 160\n",
            "patient040 35\n",
            "5 patient040\n",
            "35 195\n",
            "patient023 25\n",
            "6 patient023\n",
            "25 220\n",
            "patient081 16\n",
            "7 patient081\n",
            "16 236\n",
            "patient011 15\n",
            "8 patient011\n",
            "15 251\n",
            "patient001 30\n",
            "9 patient001\n",
            "30 281\n",
            "patient019 30\n",
            "10 patient019\n",
            "30 311\n",
            "patient031 30\n",
            "11 patient031\n",
            "30 341\n",
            "patient074 30\n",
            "12 patient074\n",
            "30 371\n",
            "patient034 30\n",
            "13 patient034\n",
            "30 401\n",
            "patient091 16\n",
            "14 patient091\n",
            "16 417\n",
            "patient005 30\n",
            "15 patient005\n",
            "30 447\n",
            "patient077 25\n",
            "16 patient077\n",
            "25 472\n",
            "patient078 30\n",
            "17 patient078\n",
            "30 502\n",
            "patient013 30\n",
            "18 patient013\n",
            "30 532\n",
            "patient032 30\n",
            "19 patient032\n",
            "30 562\n",
            "patient101 30\n",
            "0 patient101\n",
            "30 30\n",
            "patient102 30\n",
            "1 patient102\n",
            "30 60\n",
            "patient103 30\n",
            "2 patient103\n",
            "30 90\n",
            "patient104 30\n",
            "3 patient104\n",
            "30 120\n",
            "patient105 30\n",
            "4 patient105\n",
            "30 150\n",
            "patient106 30\n",
            "5 patient106\n",
            "30 180\n",
            "patient107 30\n",
            "6 patient107\n",
            "30 210\n",
            "patient108 30\n",
            "7 patient108\n",
            "30 240\n",
            "patient109 30\n",
            "8 patient109\n",
            "30 270\n",
            "patient110 30\n",
            "9 patient110\n",
            "30 300\n",
            "patient111 15\n",
            "10 patient111\n",
            "15 315\n",
            "patient112 30\n",
            "11 patient112\n",
            "30 345\n",
            "patient113 15\n",
            "12 patient113\n",
            "15 360\n",
            "patient114 30\n",
            "13 patient114\n",
            "30 390\n",
            "patient115 30\n",
            "14 patient115\n",
            "30 420\n",
            "patient116 30\n",
            "15 patient116\n",
            "30 450\n",
            "patient117 30\n",
            "16 patient117\n",
            "30 480\n",
            "patient118 25\n",
            "17 patient118\n",
            "25 505\n",
            "patient119 15\n",
            "18 patient119\n",
            "15 520\n",
            "patient120 25\n",
            "19 patient120\n",
            "25 545\n",
            "patient121 35\n",
            "20 patient121\n",
            "35 580\n",
            "patient122 14\n",
            "21 patient122\n",
            "14 594\n",
            "patient123 30\n",
            "22 patient123\n",
            "30 624\n",
            "patient124 15\n",
            "23 patient124\n",
            "15 639\n",
            "patient125 15\n",
            "24 patient125\n",
            "15 654\n",
            "patient126 15\n",
            "25 patient126\n",
            "15 669\n",
            "patient127 18\n",
            "26 patient127\n",
            "18 687\n",
            "patient128 30\n",
            "27 patient128\n",
            "30 717\n",
            "patient129 16\n",
            "28 patient129\n",
            "16 733\n",
            "patient130 30\n",
            "29 patient130\n",
            "30 763\n",
            "patient131 25\n",
            "30 patient131\n",
            "25 788\n",
            "patient132 30\n",
            "31 patient132\n",
            "30 818\n",
            "patient133 14\n",
            "32 patient133\n",
            "14 832\n",
            "patient134 35\n",
            "33 patient134\n",
            "35 867\n",
            "patient135 20\n",
            "34 patient135\n",
            "20 887\n",
            "patient136 24\n",
            "35 patient136\n",
            "24 911\n",
            "patient137 30\n",
            "36 patient137\n",
            "30 941\n",
            "patient138 30\n",
            "37 patient138\n",
            "30 971\n",
            "patient139 15\n",
            "38 patient139\n",
            "15 986\n",
            "patient140 15\n",
            "39 patient140\n",
            "15 1001\n",
            "patient141 19\n",
            "40 patient141\n",
            "19 1020\n",
            "patient142 30\n",
            "41 patient142\n",
            "30 1050\n",
            "patient143 30\n",
            "42 patient143\n",
            "30 1080\n",
            "patient144 25\n",
            "43 patient144\n",
            "25 1105\n",
            "patient145 30\n",
            "44 patient145\n",
            "30 1135\n",
            "patient146 30\n",
            "45 patient146\n",
            "30 1165\n",
            "patient147 19\n",
            "46 patient147\n",
            "19 1184\n",
            "patient148 35\n",
            "47 patient148\n",
            "35 1219\n",
            "patient149 25\n",
            "48 patient149\n",
            "25 1244\n",
            "patient150 30\n",
            "49 patient150\n",
            "30 1274\n"
          ]
        }
      ]
    },
    {
      "cell_type": "code",
      "source": [
        "from collections import Counter\n",
        "Counter(y_train)"
      ],
      "metadata": {
        "colab": {
          "base_uri": "https://localhost:8080/"
        },
        "id": "JEemylA5Ga2i",
        "outputId": "6da06f29-5eb1-46b0-f50b-7b3918d3980c"
      },
      "execution_count": null,
      "outputs": [
        {
          "output_type": "execute_result",
          "data": {
            "text/plain": [
              "Counter({4: 387, 1: 386, 2: 437, 3: 460, 0: 466})"
            ]
          },
          "metadata": {},
          "execution_count": 7
        }
      ]
    },
    {
      "cell_type": "code",
      "source": [
        "Counter(y_test)"
      ],
      "metadata": {
        "id": "Ewii90_zeVq5",
        "colab": {
          "base_uri": "https://localhost:8080/"
        },
        "outputId": "51ebd0bd-0bb3-4ff6-9333-dfd2cbf38745"
      },
      "execution_count": null,
      "outputs": [
        {
          "output_type": "execute_result",
          "data": {
            "text/plain": [
              "Counter({1: 237, 2: 290, 3: 285, 0: 265, 4: 197})"
            ]
          },
          "metadata": {},
          "execution_count": 8
        }
      ]
    },
    {
      "cell_type": "code",
      "source": [
        "# Resizing images to standard dimensions\n",
        "def resize(L, x, y):\n",
        "  output = []\n",
        "  for i in range(len(L)):\n",
        "    resized = cv2.resize(L[i][0], (x, y))\n",
        "    output.append(resized)\n",
        "  return np.array(output)\n",
        "\n",
        "x_train = resize(x_train, 154, 154)\n",
        "x_valid = resize(x_valid, 154, 154)\n",
        "x_test = resize(x_test, 154, 154)"
      ],
      "metadata": {
        "id": "OUCXzODwZq14"
      },
      "execution_count": null,
      "outputs": []
    },
    {
      "cell_type": "code",
      "source": [
        "x_train.shape"
      ],
      "metadata": {
        "colab": {
          "base_uri": "https://localhost:8080/"
        },
        "id": "7XmuJRv_CVwJ",
        "outputId": "8c5b48b0-8935-48d5-ee9a-0c37fe72216f"
      },
      "execution_count": null,
      "outputs": [
        {
          "output_type": "execute_result",
          "data": {
            "text/plain": [
              "(2136, 154, 154)"
            ]
          },
          "metadata": {},
          "execution_count": 10
        }
      ]
    },
    {
      "cell_type": "code",
      "source": [
        "x_valid.shape"
      ],
      "metadata": {
        "id": "DJysserKnOKa",
        "colab": {
          "base_uri": "https://localhost:8080/"
        },
        "outputId": "20a8eacc-2fbf-4d83-824a-47c0a8772593"
      },
      "execution_count": null,
      "outputs": [
        {
          "output_type": "execute_result",
          "data": {
            "text/plain": [
              "(562, 154, 154)"
            ]
          },
          "metadata": {},
          "execution_count": 11
        }
      ]
    },
    {
      "cell_type": "code",
      "source": [
        "x_test.shape"
      ],
      "metadata": {
        "colab": {
          "base_uri": "https://localhost:8080/"
        },
        "id": "iD7muWobCYXT",
        "outputId": "4346e985-7830-497f-c771-6aa0016c1873"
      },
      "execution_count": null,
      "outputs": [
        {
          "output_type": "execute_result",
          "data": {
            "text/plain": [
              "(1274, 154, 154)"
            ]
          },
          "metadata": {},
          "execution_count": 12
        }
      ]
    },
    {
      "cell_type": "code",
      "source": [
        "mean = x_train.mean(axis=0)\n",
        "std  = x_train.std(axis=0)\n",
        "x_train = (x_train-mean)/std\n",
        "x_valid = (x_valid-mean)/std\n",
        "x_test  = (x_test-mean)/std"
      ],
      "metadata": {
        "id": "5mFrWGcnM9CM"
      },
      "execution_count": null,
      "outputs": []
    },
    {
      "cell_type": "code",
      "source": [
        "nb_classes = len(np.unique(y_train))\n",
        "y_train = to_categorical(y_train, nb_classes)\n",
        "y_valid = to_categorical(y_valid, nb_classes)\n",
        "y_test  = to_categorical(y_test, nb_classes)"
      ],
      "metadata": {
        "id": "2CPwNPfRU_h6"
      },
      "execution_count": null,
      "outputs": []
    },
    {
      "cell_type": "markdown",
      "source": [
        "# **Training the Model**"
      ],
      "metadata": {
        "id": "HvfncVvHYvc7"
      }
    },
    {
      "cell_type": "code",
      "source": [
        "x_train.shape"
      ],
      "metadata": {
        "id": "YtbMHM7-cnHV",
        "colab": {
          "base_uri": "https://localhost:8080/"
        },
        "outputId": "8328c7db-f3f2-46f8-87ec-b8a61859e6f5"
      },
      "execution_count": null,
      "outputs": [
        {
          "output_type": "execute_result",
          "data": {
            "text/plain": [
              "(2136, 154, 154)"
            ]
          },
          "metadata": {},
          "execution_count": 15
        }
      ]
    },
    {
      "cell_type": "code",
      "source": [
        "y_train.shape"
      ],
      "metadata": {
        "id": "B95WCPR3vhCy",
        "colab": {
          "base_uri": "https://localhost:8080/"
        },
        "outputId": "c4f7339d-56ac-4f06-91ec-fe5fa74ddf3e"
      },
      "execution_count": null,
      "outputs": [
        {
          "output_type": "execute_result",
          "data": {
            "text/plain": [
              "(2136, 5)"
            ]
          },
          "metadata": {},
          "execution_count": 16
        }
      ]
    },
    {
      "cell_type": "code",
      "source": [
        "# Early Stopping Method\n",
        "es = EarlyStopping(patience = 5, monitor = 'val_accuracy', restore_best_weights=True)\n",
        "rate = 0.2"
      ],
      "metadata": {
        "id": "SM5Da2kYTcjq"
      },
      "execution_count": null,
      "outputs": []
    },
    {
      "cell_type": "code",
      "source": [
        "nb_filter       = 3   # number of filter/kernels in the convolutional layers\n",
        "filter_length   = 5  # length of the filter/kernel in the convolutional layers\n",
        "window_size     = x_train.shape[1] # the window size defined by the dataset\n",
        "nb_features     = x_train.shape[1] # the number of features of the input data (number of dimensions)\n",
        "nb_outputs      = y_train.shape[1] # the number of outputs (defined by the target data)"
      ],
      "metadata": {
        "id": "yktgmxjVdIuz"
      },
      "execution_count": null,
      "outputs": []
    },
    {
      "cell_type": "code",
      "source": [
        "model = Sequential()\n",
        "\n",
        "# First convolutional block\n",
        "model.add(Conv1D(filters=nb_filter*3, kernel_size=filter_length, activation='relu', kernel_initializer='he_normal', input_shape=(window_size, nb_features)))\n",
        "model.add(BatchNormalization())\n",
        "model.add(MaxPooling1D(pool_size=2, strides=2, padding=\"valid\"))\n",
        "model.add(Dropout(rate))\n",
        "\n",
        "# Second convolutional block\n",
        "model.add(Conv1D(filters=nb_filter*3, kernel_size=filter_length, activation='relu', kernel_initializer='he_normal'))\n",
        "model.add(BatchNormalization())\n",
        "model.add(MaxPooling1D(pool_size=2, strides=2))\n",
        "model.add(Dropout(rate))\n",
        "\n",
        "# Third convolutional block (additional layer)\n",
        "model.add(Conv1D(filters=nb_filter*3, kernel_size=filter_length, activation='relu', kernel_initializer='he_normal'))\n",
        "model.add(BatchNormalization())\n",
        "model.add(MaxPooling1D(pool_size=2, strides=2))\n",
        "model.add(Dropout(rate))\n",
        "\n",
        "# Flatten and fully connected layers\n",
        "model.add(Flatten())\n",
        "model.add(Dense(128, activation='relu'))\n",
        "model.add(Dropout(rate))\n",
        "model.add(Dense(nb_outputs, activation='softmax'))"
      ],
      "metadata": {
        "id": "WsASDUCdThh3"
      },
      "execution_count": null,
      "outputs": []
    },
    {
      "cell_type": "code",
      "source": [
        "model.compile(loss='categorical_crossentropy', optimizer='adam', metrics=['accuracy'])"
      ],
      "metadata": {
        "id": "dc0bB7DZjkFK"
      },
      "execution_count": null,
      "outputs": []
    },
    {
      "cell_type": "code",
      "source": [
        "network_history = model.fit(x_train, y_train,\n",
        "                            validation_data=(x_valid,y_valid),\n",
        "                            batch_size=32,\n",
        "                            epochs=100,\n",
        "                            verbose=1,\n",
        "                            callbacks=[es])"
      ],
      "metadata": {
        "id": "J-0RhL_Fj_Da",
        "colab": {
          "base_uri": "https://localhost:8080/"
        },
        "outputId": "e428aaa8-8b6a-4052-a5af-f3381f2f6a41"
      },
      "execution_count": null,
      "outputs": [
        {
          "output_type": "stream",
          "name": "stdout",
          "text": [
            "Epoch 1/100\n",
            "67/67 [==============================] - 4s 15ms/step - loss: 1.3901 - accuracy: 0.4335 - val_loss: 2.2516 - val_accuracy: 0.3167\n",
            "Epoch 2/100\n",
            "67/67 [==============================] - 1s 9ms/step - loss: 0.7519 - accuracy: 0.7210 - val_loss: 2.5354 - val_accuracy: 0.3416\n",
            "Epoch 3/100\n",
            "67/67 [==============================] - 1s 9ms/step - loss: 0.4239 - accuracy: 0.8596 - val_loss: 2.6860 - val_accuracy: 0.3310\n",
            "Epoch 4/100\n",
            "67/67 [==============================] - 1s 10ms/step - loss: 0.2315 - accuracy: 0.9316 - val_loss: 2.6636 - val_accuracy: 0.3577\n",
            "Epoch 5/100\n",
            "67/67 [==============================] - 1s 9ms/step - loss: 0.1560 - accuracy: 0.9555 - val_loss: 3.3887 - val_accuracy: 0.3256\n",
            "Epoch 6/100\n",
            "67/67 [==============================] - 1s 10ms/step - loss: 0.1394 - accuracy: 0.9551 - val_loss: 3.4385 - val_accuracy: 0.3025\n",
            "Epoch 7/100\n",
            "67/67 [==============================] - 1s 9ms/step - loss: 0.0962 - accuracy: 0.9714 - val_loss: 3.7648 - val_accuracy: 0.3078\n",
            "Epoch 8/100\n",
            "67/67 [==============================] - 1s 9ms/step - loss: 0.0765 - accuracy: 0.9761 - val_loss: 3.8311 - val_accuracy: 0.2722\n",
            "Epoch 9/100\n",
            "67/67 [==============================] - 1s 9ms/step - loss: 0.0587 - accuracy: 0.9836 - val_loss: 4.2531 - val_accuracy: 0.2865\n"
          ]
        }
      ]
    },
    {
      "cell_type": "markdown",
      "source": [
        "# **Evaluation of Model**\n",
        "\n"
      ],
      "metadata": {
        "id": "oblvx_SHWTCI"
      }
    },
    {
      "cell_type": "code",
      "source": [
        "eval = model.evaluate(x_test,y_test)\n",
        "print(\"Test loss:\",eval[0])\n",
        "print(\"Test accuracy:\",eval[1])"
      ],
      "metadata": {
        "colab": {
          "base_uri": "https://localhost:8080/"
        },
        "id": "kgarQt9cQsMg",
        "outputId": "38d4f94f-2dc0-42eb-bb85-f3f200098e87"
      },
      "execution_count": null,
      "outputs": [
        {
          "output_type": "stream",
          "name": "stdout",
          "text": [
            "40/40 [==============================] - 0s 4ms/step - loss: 1.9405 - accuracy: 0.3948\n",
            "Test loss: 1.94050133228302\n",
            "Test accuracy: 0.3948194682598114\n"
          ]
        }
      ]
    },
    {
      "cell_type": "code",
      "source": [
        "preds = model.predict(x_test)"
      ],
      "metadata": {
        "colab": {
          "base_uri": "https://localhost:8080/"
        },
        "id": "WvpRtTsoU2wC",
        "outputId": "0e297966-bd7c-49b5-c472-ada63a27a988"
      },
      "execution_count": null,
      "outputs": [
        {
          "output_type": "stream",
          "name": "stdout",
          "text": [
            "40/40 [==============================] - 0s 3ms/step\n"
          ]
        }
      ]
    },
    {
      "cell_type": "code",
      "source": [
        "print(classification_report(np.argmax(y_test,1),np.argmax(preds,1)))"
      ],
      "metadata": {
        "colab": {
          "base_uri": "https://localhost:8080/"
        },
        "id": "JWj99-YOVGhZ",
        "outputId": "cb1e2fb1-d7db-4f37-d699-ff515d694992"
      },
      "execution_count": null,
      "outputs": [
        {
          "output_type": "stream",
          "name": "stdout",
          "text": [
            "              precision    recall  f1-score   support\n",
            "\n",
            "           0       0.36      0.37      0.37       265\n",
            "           1       0.41      0.41      0.41       237\n",
            "           2       0.48      0.20      0.28       290\n",
            "           3       0.42      0.59      0.49       285\n",
            "           4       0.34      0.42      0.37       197\n",
            "\n",
            "    accuracy                           0.39      1274\n",
            "   macro avg       0.40      0.40      0.38      1274\n",
            "weighted avg       0.41      0.39      0.38      1274\n",
            "\n"
          ]
        }
      ]
    },
    {
      "cell_type": "code",
      "source": [
        "balanced_accuracy_score(np.argmax(y_test,1),np.argmax(preds,1))"
      ],
      "metadata": {
        "colab": {
          "base_uri": "https://localhost:8080/"
        },
        "id": "ZlDc9sGsV5vg",
        "outputId": "97965208-2643-4b37-bce6-034513677375"
      },
      "execution_count": null,
      "outputs": [
        {
          "output_type": "execute_result",
          "data": {
            "text/plain": [
              "0.397287845295886"
            ]
          },
          "metadata": {},
          "execution_count": 106
        }
      ]
    },
    {
      "cell_type": "code",
      "source": [
        "conf=confusion_matrix(np.argmax(y_test,1),np.argmax(preds,1))\n",
        "sns.heatmap(conf, annot=True, fmt='d', vmax=100)"
      ],
      "metadata": {
        "colab": {
          "base_uri": "https://localhost:8080/",
          "height": 453
        },
        "id": "vdXyhRbEVHCe",
        "outputId": "9dbadddf-03c3-4211-d513-a25cfa3eb9c8"
      },
      "execution_count": null,
      "outputs": [
        {
          "output_type": "execute_result",
          "data": {
            "text/plain": [
              "<Axes: >"
            ]
          },
          "metadata": {},
          "execution_count": 107
        },
        {
          "output_type": "display_data",
          "data": {
            "text/plain": [
              "<Figure size 640x480 with 2 Axes>"
            ],
            "image/png": "[encoded data removed]"
          },
          "metadata": {}
        }
      ]
    },
    {
      "cell_type": "code",
      "source": [],
      "metadata": {
        "id": "NPB9jqF9A19Y"
      },
      "execution_count": null,
      "outputs": []
    }
  ]
}